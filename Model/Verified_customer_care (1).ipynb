{
 "cells": [
  {
   "cell_type": "code",
   "execution_count": 1,
   "id": "9a94a1c7",
   "metadata": {
    "scrolled": true
   },
   "outputs": [
    {
     "name": "stdout",
     "output_type": "stream",
     "text": [
      "Enter the number11 23325225\n",
      "The customer care number 11 23325225 is Verified.\n"
     ]
    }
   ],
   "source": [
    "import pandas as pd\n",
    "\n",
    "def verify_customer_care_number(input_number, dataset_path='vc - Sheet1.csv'):\n",
    "    # Read the dataset\n",
    "    try:\n",
    "   \t\t df = pd.read_csv(\"vc - Sheet1.csv\")\n",
    "    except pd.errors.ParserError:\n",
    "        print(\"Error parsing the CSV file. Check the file structure.\")\n",
    "        return \"Not Verified\"\n",
    "    df['contact_number'] = df['contact_number'].apply(lambda x: ''.join(c for c in str(x) if c.isdigit()))\n",
    "\n",
    "    # Preprocess input number\n",
    "    input_number = ''.join(c for c in input_number if c.isdigit())  # Remove non-digit characters\n",
    "    if input_number.startswith('+91'):\n",
    "        input_number = input_number[3:]  # Remove country code if present\n",
    "\n",
    "    # Check if the preprocessed number is in the dataset\n",
    "    if df['contact_number'].isin([input_number]).any():\n",
    "        return \"Verified\"\n",
    "    else:\n",
    "        return \"Not Verified\"\n",
    "\n",
    "input_number = input('Enter the number')\n",
    "verification_result = verify_customer_care_number(input_number)\n",
    "print(f\"The customer care number {input_number} is {verification_result}.\")\n"
   ]
  },
  {
   "cell_type": "code",
   "execution_count": null,
   "id": "386e528f",
   "metadata": {},
   "outputs": [],
   "source": []
  },
  {
   "cell_type": "code",
   "execution_count": null,
   "id": "93e835fe",
   "metadata": {},
   "outputs": [],
   "source": []
  }
 ],
 "metadata": {
  "kernelspec": {
   "display_name": "Python 3 (ipykernel)",
   "language": "python",
   "name": "python3"
  },
  "language_info": {
   "codemirror_mode": {
    "name": "ipython",
    "version": 3
   },
   "file_extension": ".py",
   "mimetype": "text/x-python",
   "name": "python",
   "nbconvert_exporter": "python",
   "pygments_lexer": "ipython3",
   "version": "3.10.11"
  }
 },
 "nbformat": 4,
 "nbformat_minor": 5
}
